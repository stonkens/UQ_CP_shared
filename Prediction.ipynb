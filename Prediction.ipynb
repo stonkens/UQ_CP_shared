{
 "cells": [
  {
   "cell_type": "code",
   "execution_count": 51,
   "id": "4e879f21",
   "metadata": {},
   "outputs": [],
   "source": [
    "import numpy as np\n",
    "import pickle\n",
    "import torch\n",
    "import sys\n",
    "import trajnetplusplustools\n",
    "from tqdm import tqdm"
   ]
  },
  {
   "cell_type": "markdown",
   "id": "152911a8",
   "metadata": {},
   "source": [
    "## To run prediction:\n",
    "\n",
    "1. clone trajnet++ baselines code [repo](https://github.com/vita-epfl/trajnetplusplusbaselines)\n",
    "2. install [trajnetplusplustools](https://github.com/vita-epfl/trajnetplusplustools): clone and then ```python setup.py install```\n",
    "3. download trained model file from [drive](https://drive.google.com/file/d/1wHj0QCGBLjxh5pVD3-KvlhrIPVCWMI7O/view?usp=share_link)  to ```prediction/trained_model/social_lstm/``` "
   ]
  },
  {
   "cell_type": "markdown",
   "id": "75d4ae98",
   "metadata": {},
   "source": [
    "## Load Model"
   ]
  },
  {
   "cell_type": "code",
   "execution_count": 27,
   "id": "1ebf86e2",
   "metadata": {},
   "outputs": [],
   "source": [
    "sys.path.append(\"../pedestriandataset\") #change to where the trajnetplusplusbaselines folder is\n",
    "\n",
    "from trajnetplusplusbaselines.trajnetbaselines.lstm.gridbased_pooling import GridBasedPooling\n",
    "from trajnetplusplusbaselines.trajnetbaselines.lstm.lstm import LSTM, LSTMPredictor, drop_distant\n",
    "\n",
    "pool = GridBasedPooling(type_='social', hidden_dim=128,\n",
    "                        cell_side=0.6, n=16, front=True,\n",
    "                        out_dim=256, embedding_arch='two_layer',\n",
    "                        constant=0, pretrained_pool_encoder=None,\n",
    "                        norm=0, layer_dims=[1024], latent_dim=16)\n",
    "\n",
    "model = LSTM(pool=pool,\n",
    "             embedding_dim=64,\n",
    "             hidden_dim=128,\n",
    "             goal_flag=False,\n",
    "             goal_dim=0)\n"
   ]
  },
  {
   "cell_type": "code",
   "execution_count": 28,
   "id": "c81d3d53",
   "metadata": {},
   "outputs": [
    {
     "data": {
      "text/plain": [
       "<All keys matched successfully>"
      ]
     },
     "execution_count": 28,
     "metadata": {},
     "output_type": "execute_result"
    }
   ],
   "source": [
    "model_path = 'prediction/trained_model/social_lstm/lstm_social_None.pkl.epoch25.state'\n",
    "#sys.path.append(\"./trajnetplusplusbaselines/trajnetbaselines\")\n",
    "\n",
    "with open(model_path, 'rb') as f:\n",
    "    checkpoint = torch.load(f)\n",
    "    \n",
    "pretrained_state_dict = checkpoint['state_dict']\n",
    "\n",
    "model.load_state_dict(pretrained_state_dict, strict=False)"
   ]
  },
  {
   "cell_type": "markdown",
   "id": "637cf2c7",
   "metadata": {},
   "source": [
    "## Load test data"
   ]
  },
  {
   "cell_type": "code",
   "execution_count": 34,
   "id": "e1d1b479",
   "metadata": {},
   "outputs": [
    {
     "name": "stdout",
     "output_type": "stream",
     "text": [
      "biwi_hotel.ndjson          crowds_zara01.ndjson\r\n",
      "cff_10.ndjson              crowds_zara03.ndjson\r\n",
      "cff_17.ndjson              lcas.ndjson\r\n",
      "crowds_students001.ndjson  wildtrack.ndjson\r\n",
      "crowds_students003.ndjson\r\n"
     ]
    }
   ],
   "source": [
    "ls datasets/pedestrian/trajdata/test"
   ]
  },
  {
   "cell_type": "code",
   "execution_count": 38,
   "id": "1b4cf85f",
   "metadata": {},
   "outputs": [],
   "source": [
    "file = 'biwi_hotel.ndjson'\n",
    "fullpath  = 'datasets/pedestrian/trajdata/test/' + file\n",
    "\n",
    "reader = trajnetplusplustools.Reader(fullpath, scene_type='paths')"
   ]
  },
  {
   "cell_type": "code",
   "execution_count": 39,
   "id": "64b4d592",
   "metadata": {},
   "outputs": [
    {
     "data": {
      "text/plain": [
       "40"
      ]
     },
     "execution_count": 39,
     "metadata": {},
     "output_type": "execute_result"
    }
   ],
   "source": [
    "scenes = [(file, s_id, s) for s_id, s in reader.scenes()]\n",
    "len(scenes)"
   ]
  },
  {
   "cell_type": "code",
   "execution_count": 40,
   "id": "ac375dcb",
   "metadata": {},
   "outputs": [
    {
     "data": {
      "text/plain": [
       "torch.Size([21, 8, 2])"
      ]
     },
     "execution_count": 40,
     "metadata": {},
     "output_type": "execute_result"
    }
   ],
   "source": [
    "scene1 = trajnetplusplustools.Reader.paths_to_xy(scenes[0][2])\n",
    "scene1 = torch.Tensor(scene1)\n",
    "scene1.shape"
   ]
  },
  {
   "cell_type": "code",
   "execution_count": 46,
   "id": "d30770cc",
   "metadata": {},
   "outputs": [],
   "source": [
    "def recover_pos(last_obs, delta):\n",
    "    output = [last_obs]\n",
    "    for i, d in enumerate(delta):\n",
    "        output.append(output[i]+d[...,:2])\n",
    "        \n",
    "    return torch.stack(output)\n",
    "    \n",
    "def predict_one(scene):\n",
    "    scene1 = trajnetplusplustools.Reader.paths_to_xy(scene[2])\n",
    "    scene1 = torch.Tensor(scene1)\n",
    "\n",
    "    seq_length = 21\n",
    "    obs_length = 9\n",
    "    pred_length = 12\n",
    "    batch_scene_goal = []\n",
    "    batch_split = [0]\n",
    "    batch_split.append(int(scene1.shape[1]))\n",
    "    batch_split = torch.Tensor(batch_split).long()\n",
    "\n",
    "    observed = scene1[:obs_length]\n",
    "    prediction_truth = scene1[obs_length:seq_length-1]\n",
    "    targets = scene1[obs_length:seq_length] - scene1[obs_length-1:seq_length-1]\n",
    "\n",
    "    with torch.no_grad():\n",
    "        rel_outputs, _ = model(observed, batch_scene_goal, batch_split, prediction_truth)\n",
    "        \n",
    "    delta = rel_outputs[-12:]\n",
    "    out = recover_pos(observed[-1], delta)\n",
    "    uq = delta[..., 2:]\n",
    "    \n",
    "    return scene1, out, uq"
   ]
  },
  {
   "cell_type": "code",
   "execution_count": 47,
   "id": "da46b7f6",
   "metadata": {},
   "outputs": [],
   "source": [
    "scene1, out, uq = predict_one(scenes[0])"
   ]
  },
  {
   "cell_type": "code",
   "execution_count": 52,
   "id": "b813532e",
   "metadata": {},
   "outputs": [
    {
     "name": "stderr",
     "output_type": "stream",
     "text": [
      "100%|█████████████████████████████████████████████████| 40/40 [00:01<00:00, 22.31it/s]\n"
     ]
    }
   ],
   "source": [
    "results = []\n",
    "for s in tqdm(scenes):\n",
    "    gt, out, uq = predict_one(s)\n",
    "    results.append((gt.detach().numpy(), out.detach().numpy(), uq.detach().numpy()))"
   ]
  },
  {
   "cell_type": "code",
   "execution_count": 54,
   "id": "9d4d9eeb",
   "metadata": {},
   "outputs": [
    {
     "name": "stdout",
     "output_type": "stream",
     "text": [
      "pedestrian_sociallstm_out.pkl\r\n"
     ]
    }
   ],
   "source": [
    "!ls outputs/"
   ]
  },
  {
   "cell_type": "code",
   "execution_count": 55,
   "id": "44565dce",
   "metadata": {},
   "outputs": [],
   "source": [
    "with open('outputs/biwi_sociallstm_uq.pkl', 'wb') as f:\n",
    "    pickle.dump(results, f, protocol=pickle.HIGHEST_PROTOCOL)\n"
   ]
  },
  {
   "cell_type": "code",
   "execution_count": null,
   "id": "ecdfb17b",
   "metadata": {},
   "outputs": [],
   "source": []
  },
  {
   "cell_type": "code",
   "execution_count": 56,
   "id": "5725b96a",
   "metadata": {},
   "outputs": [],
   "source": [
    "all_test = ! ls datasets/pedestrian/trajdata/test"
   ]
  },
  {
   "cell_type": "code",
   "execution_count": 58,
   "id": "9f93eeb0",
   "metadata": {},
   "outputs": [
    {
     "data": {
      "text/plain": [
       "['biwi_hotel.ndjson',\n",
       " 'cff_10.ndjson',\n",
       " 'cff_17.ndjson',\n",
       " 'crowds_students001.ndjson',\n",
       " 'crowds_students003.ndjson',\n",
       " 'crowds_zara01.ndjson',\n",
       " 'crowds_zara03.ndjson',\n",
       " 'lcas.ndjson']"
      ]
     },
     "execution_count": 58,
     "metadata": {},
     "output_type": "execute_result"
    }
   ],
   "source": [
    "all_test = all_test[:-1]\n",
    "all_test"
   ]
  },
  {
   "cell_type": "code",
   "execution_count": null,
   "id": "3f04cb9b",
   "metadata": {},
   "outputs": [],
   "source": []
  },
  {
   "cell_type": "code",
   "execution_count": null,
   "id": "a61d2e04",
   "metadata": {},
   "outputs": [],
   "source": []
  },
  {
   "cell_type": "code",
   "execution_count": 59,
   "id": "728adebd",
   "metadata": {},
   "outputs": [],
   "source": [
    "scenes = []\n",
    "\n",
    "for file in all_test:\n",
    "\n",
    "    fullpath  = 'datasets/pedestrian/trajdata/test/' + file\n",
    "\n",
    "    reader = trajnetplusplustools.Reader(fullpath, scene_type='paths')\n",
    "\n",
    "    scenes += [(file, s_id, s) for s_id, s in reader.scenes()]"
   ]
  },
  {
   "cell_type": "code",
   "execution_count": 60,
   "id": "2fc06db7",
   "metadata": {},
   "outputs": [
    {
     "name": "stderr",
     "output_type": "stream",
     "text": [
      "100%|███████████████████████████████████████| 6409/6409 [12:51<00:00,  8.31it/s]\n"
     ]
    }
   ],
   "source": [
    "results = []\n",
    "for s in tqdm(scenes):\n",
    "    gt, out, uq = predict_one(s)\n",
    "    results.append((gt.detach().numpy(), out.detach().numpy(), uq.detach().numpy()))"
   ]
  },
  {
   "cell_type": "code",
   "execution_count": 61,
   "id": "249d38ec",
   "metadata": {},
   "outputs": [],
   "source": [
    "with open('outputs/sociallstm_all_with_uq.pkl', 'wb') as f:\n",
    "    pickle.dump(results, f, protocol=pickle.HIGHEST_PROTOCOL)"
   ]
  },
  {
   "cell_type": "code",
   "execution_count": null,
   "id": "a3a6e579",
   "metadata": {},
   "outputs": [],
   "source": []
  },
  {
   "cell_type": "markdown",
   "id": "8eab873f",
   "metadata": {},
   "source": [
    "# uniform data freequency"
   ]
  },
  {
   "cell_type": "code",
   "execution_count": 6,
   "id": "0d9f7026",
   "metadata": {},
   "outputs": [],
   "source": [
    "\n",
    "import ndjson"
   ]
  },
  {
   "cell_type": "code",
   "execution_count": 2,
   "id": "7869eb3d",
   "metadata": {},
   "outputs": [],
   "source": [
    "test_files = !ls datasets/pedestrian/trajdata/test"
   ]
  },
  {
   "cell_type": "code",
   "execution_count": 3,
   "id": "430da629",
   "metadata": {},
   "outputs": [
    {
     "data": {
      "text/plain": [
       "['biwi_hotel.ndjson',\n",
       " 'cff_10.ndjson',\n",
       " 'cff_17.ndjson',\n",
       " 'crowds_students001.ndjson',\n",
       " 'crowds_students003.ndjson',\n",
       " 'crowds_zara01.ndjson',\n",
       " 'crowds_zara03.ndjson',\n",
       " 'lcas.ndjson',\n",
       " 'wildtrack.ndjson']"
      ]
     },
     "execution_count": 3,
     "metadata": {},
     "output_type": "execute_result"
    }
   ],
   "source": [
    "test_files"
   ]
  },
  {
   "cell_type": "code",
   "execution_count": 7,
   "id": "3fd87210",
   "metadata": {},
   "outputs": [
    {
     "name": "stdout",
     "output_type": "stream",
     "text": [
      "{'scene': {'id': 6, 'p': 25, 's': 500, 'e': 700, 'fps': 2.5, 'tag': [4, []]}}\n",
      "{'scene': {'id': 3, 'p': 3, 's': 1072, 'e': 1152, 'fps': 2.5, 'tag': [3, [4]]}}\n",
      "{'scene': {'id': 1, 'p': 5, 's': 356, 'e': 436, 'fps': 2.5, 'tag': [4, []]}}\n",
      "{'scene': {'id': 2, 'p': 0, 's': 50, 'e': 250, 'fps': 2.5, 'tag': [2, []]}}\n",
      "{'scene': {'id': 1, 'p': 2, 's': 30, 'e': 230, 'fps': 2.5, 'tag': [3, [4]]}}\n",
      "{'scene': {'id': 6, 'p': 2, 's': 10, 'e': 210, 'fps': 2.5, 'tag': [2, []]}}\n",
      "{'scene': {'id': 0, 'p': 0, 's': 10, 'e': 210, 'fps': 2.5, 'tag': [3, [3]]}}\n",
      "{'scene': {'id': 2, 'p': 588, 's': 34, 'e': 54, 'fps': 2.5, 'tag': [1, []]}}\n",
      "{'scene': {'id': 1, 'p': 5, 's': 10, 'e': 110, 'fps': 2, 'tag': [3, [4]]}}\n"
     ]
    }
   ],
   "source": [
    "for file in test_files:\n",
    "    with open('datasets/pedestrian/trajdata/test/' + file) as f:\n",
    "        data = ndjson.load(f)\n",
    "        print(data[0])"
   ]
  },
  {
   "cell_type": "code",
   "execution_count": 11,
   "id": "5931ac94",
   "metadata": {},
   "outputs": [],
   "source": [
    "count = 0\n",
    "for i in data:\n",
    "    if 'scene' in i.keys():\n",
    "        count +=1"
   ]
  },
  {
   "cell_type": "code",
   "execution_count": 12,
   "id": "46c4e7a3",
   "metadata": {},
   "outputs": [
    {
     "data": {
      "text/plain": [
       "266"
      ]
     },
     "execution_count": 12,
     "metadata": {},
     "output_type": "execute_result"
    }
   ],
   "source": [
    "count"
   ]
  }
 ],
 "metadata": {
  "kernelspec": {
   "display_name": "py3",
   "language": "python",
   "name": "py3"
  },
  "language_info": {
   "codemirror_mode": {
    "name": "ipython",
    "version": 3
   },
   "file_extension": ".py",
   "mimetype": "text/x-python",
   "name": "python",
   "nbconvert_exporter": "python",
   "pygments_lexer": "ipython3",
   "version": "3.8.12"
  }
 },
 "nbformat": 4,
 "nbformat_minor": 5
}
